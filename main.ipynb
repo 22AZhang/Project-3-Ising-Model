{
 "cells": [
  {
   "cell_type": "code",
<<<<<<< HEAD
   "execution_count": 2,
=======
   "execution_count": 43,
>>>>>>> 1ecadea33c284df20ec8b063e89ae6a0aad05f40
   "metadata": {},
   "outputs": [],
   "source": [
    "import numpy as np\n",
    "import matplotlib as plt\n",
    "import itertools as it\n",
    "\n",
    "J = -1"
   ]
  },
  {
   "cell_type": "code",
<<<<<<< HEAD
   "execution_count": null,
=======
   "execution_count": 44,
>>>>>>> 1ecadea33c284df20ec8b063e89ae6a0aad05f40
   "metadata": {},
   "outputs": [],
   "source": [
    "class lattice:\n",
    "    def __init__(self, ndims, length): # If want non-square lattice, make length an array/tuple\n",
    "        self.ndims = ndims\n",
    "        self.length = length\n",
    "        # np.full creates an array of length ndims with values of length, to create the size tuple\n",
    "        # Change to size=length for non-square lattice\n",
    "        self.points = np.random.choice(a=[-1, 1], size=tuple(np.full(ndims, length, dtype=int)))\n",
    "        self.erg = 0\n",
    "        self.mag = np.sum(self.points) / self.length**self.ndims # Change to product along entries of length for non-square lattice\n",
    "\n",
    "    def update_E(self):\n",
    "        energy = 0\n",
    "        # itertools.product creates the adjacent and diagonal neighbors of any ndarray point\n",
<<<<<<< HEAD
    "        for index in it.product(range(-1,self.length-1), repeat=self.ndims): # If want non-square lattice, make product over different ranges()\n",
    "            neighbors = []\n",
    "            for rel_pos in it.product((-1, 0, 1), repeat=self.ndims): # Loop over all neighbors. \n",
=======
    "        for index in it.product(range(-1,self.length-1), repeat=self.ndims):\n",
    "            neighbors = []\n",
    "            for rel_pos in it.product((-1, 0, 1), repeat=self.ndims): # Loop over all neighbors\n",
>>>>>>> 1ecadea33c284df20ec8b063e89ae6a0aad05f40
    "                # Exclude the point itself and all diagonal neighbors\n",
    "                if not all(i == 0 for i in rel_pos) and not all(i != 0 for i in rel_pos): \n",
    "                    neighbors.append(self.points[tuple(i + i_rel for i, i_rel in zip(index, rel_pos))]) # Add neighbor spin values\n",
    "            neighbors = np.array(neighbors)\n",
    "            energy += J * np.sum(neighbors * self.points[index]) # Add to energy\n",
    "        self.erg = energy / 2 # divide by 2 for double-counting\n",
<<<<<<< HEAD
    "        \n",
    "    def update_M(self): # Update magnetization\n",
    "        self.mag = np.sum(self.points) / self.length**self.ndims\n",
    "\n",
    "    def set_points(self, value): # Make spins uniform for testing\n",
    "        self.points = np.random.choice(a=[value], size=tuple(np.full(self.ndims, self.length, dtype=int)))"
=======
    "    def update_M(self):\n",
    "        self.mag = np.sum(self.points) / self.length**self.ndims"
>>>>>>> 1ecadea33c284df20ec8b063e89ae6a0aad05f40
   ]
  },
  {
   "cell_type": "code",
   "execution_count": 45,
   "metadata": {},
   "outputs": [
    {
     "name": "stdout",
     "output_type": "stream",
     "text": [
      "[[ 1  1  1  1]\n",
      " [-1 -1 -1  1]\n",
      " [-1 -1  1  1]\n",
      " [ 1  1 -1 -1]]\n",
      "0.0\n",
      "0.125\n"
     ]
    }
   ],
   "source": [
    "L1 = lattice(2,4)\n",
    "print(L1.points)\n",
    "L1.update_E()\n",
    "print(L1.erg)\n",
    "print(L1.mag)"
   ]
  },
  {
   "cell_type": "code",
<<<<<<< HEAD
   "execution_count": 30,
   "metadata": {},
   "outputs": [
    {
     "name": "stdout",
     "output_type": "stream",
     "text": [
      "[[-1 -1]\n",
      " [-1 -1]]\n",
      "-8.0\n",
      "0.0\n"
     ]
    }
   ],
   "source": [
    "L1 = lattice(2,2) \n",
    "# Code faulty for matrix with length==2, neighbor indices quadruple count rather than double count. \n",
    "# Is a problem when matrix values are all the same\n",
    "L1.set_points(-1)\n",
    "print(L1.points)\n",
    "L1.update_E()\n",
    "print(L1.erg)\n",
    "print(L1.mag)"
   ]
  },
  {
   "cell_type": "code",
=======
>>>>>>> 1ecadea33c284df20ec8b063e89ae6a0aad05f40
   "execution_count": null,
   "metadata": {},
   "outputs": [],
   "source": []
  }
 ],
 "metadata": {
  "kernelspec": {
   "display_name": "Python 3",
   "language": "python",
   "name": "python3"
  },
  "language_info": {
   "codemirror_mode": {
    "name": "ipython",
    "version": 3
   },
   "file_extension": ".py",
   "mimetype": "text/x-python",
   "name": "python",
   "nbconvert_exporter": "python",
   "pygments_lexer": "ipython3",
   "version": "3.12.1"
  }
 },
 "nbformat": 4,
 "nbformat_minor": 2
}
